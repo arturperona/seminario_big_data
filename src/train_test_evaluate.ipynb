{
 "cells": [
  {
   "cell_type": "code",
   "execution_count": 90,
   "metadata": {},
   "outputs": [
    {
     "name": "stdout",
     "output_type": "stream",
     "text": [
      "Requirement already satisfied: skforecast in /home/cherra/PycharmProjects/medium-projects/tesla-analysis/.tesla-analysis-venv/lib/python3.8/site-packages (0.6.0)\n",
      "Requirement already satisfied: numpy<1.24,>=1.20 in /home/cherra/PycharmProjects/medium-projects/tesla-analysis/.tesla-analysis-venv/lib/python3.8/site-packages (from skforecast) (1.23.3)\n",
      "Requirement already satisfied: tqdm<4.65,>=4.57.0 in /home/cherra/PycharmProjects/medium-projects/tesla-analysis/.tesla-analysis-venv/lib/python3.8/site-packages (from skforecast) (4.64.1)\n",
      "Requirement already satisfied: scikit-learn<1.2,>=1.0 in /home/cherra/PycharmProjects/medium-projects/tesla-analysis/.tesla-analysis-venv/lib/python3.8/site-packages (from skforecast) (1.1.2)\n",
      "Requirement already satisfied: pandas<1.6,>=1.2 in /home/cherra/PycharmProjects/medium-projects/tesla-analysis/.tesla-analysis-venv/lib/python3.8/site-packages (from skforecast) (1.5.0)\n",
      "Requirement already satisfied: joblib<1.3.0,>=1.1.0 in /home/cherra/PycharmProjects/medium-projects/tesla-analysis/.tesla-analysis-venv/lib/python3.8/site-packages (from skforecast) (1.2.0)\n",
      "Requirement already satisfied: optuna<3.1,>=2.10.0 in /home/cherra/PycharmProjects/medium-projects/tesla-analysis/.tesla-analysis-venv/lib/python3.8/site-packages (from skforecast) (3.0.5)\n",
      "Requirement already satisfied: scikit-optimize==0.9.0 in /home/cherra/PycharmProjects/medium-projects/tesla-analysis/.tesla-analysis-venv/lib/python3.8/site-packages (from skforecast) (0.9.0)\n",
      "Requirement already satisfied: scipy>=1.3.2 in /home/cherra/PycharmProjects/medium-projects/tesla-analysis/.tesla-analysis-venv/lib/python3.8/site-packages (from scikit-learn<1.2,>=1.0->skforecast) (1.9.1)\n",
      "Requirement already satisfied: threadpoolctl>=2.0.0 in /home/cherra/PycharmProjects/medium-projects/tesla-analysis/.tesla-analysis-venv/lib/python3.8/site-packages (from scikit-learn<1.2,>=1.0->skforecast) (3.1.0)\n",
      "Requirement already satisfied: python-dateutil>=2.8.1 in /home/cherra/PycharmProjects/medium-projects/tesla-analysis/.tesla-analysis-venv/lib/python3.8/site-packages (from pandas<1.6,>=1.2->skforecast) (2.8.2)\n",
      "Requirement already satisfied: pytz>=2020.1 in /home/cherra/PycharmProjects/medium-projects/tesla-analysis/.tesla-analysis-venv/lib/python3.8/site-packages (from pandas<1.6,>=1.2->skforecast) (2022.2.1)\n",
      "Requirement already satisfied: cliff in /home/cherra/PycharmProjects/medium-projects/tesla-analysis/.tesla-analysis-venv/lib/python3.8/site-packages (from optuna<3.1,>=2.10.0->skforecast) (4.1.0)\n",
      "Requirement already satisfied: importlib-metadata<5.0.0 in /home/cherra/PycharmProjects/medium-projects/tesla-analysis/.tesla-analysis-venv/lib/python3.8/site-packages (from optuna<3.1,>=2.10.0->skforecast) (4.12.0)\n",
      "Requirement already satisfied: PyYAML in /home/cherra/PycharmProjects/medium-projects/tesla-analysis/.tesla-analysis-venv/lib/python3.8/site-packages (from optuna<3.1,>=2.10.0->skforecast) (5.4.1)\n",
      "Requirement already satisfied: colorlog in /home/cherra/PycharmProjects/medium-projects/tesla-analysis/.tesla-analysis-venv/lib/python3.8/site-packages (from optuna<3.1,>=2.10.0->skforecast) (6.7.0)\n",
      "Requirement already satisfied: sqlalchemy>=1.3.0 in /home/cherra/PycharmProjects/medium-projects/tesla-analysis/.tesla-analysis-venv/lib/python3.8/site-packages (from optuna<3.1,>=2.10.0->skforecast) (2.0.1)\n",
      "Requirement already satisfied: alembic>=1.5.0 in /home/cherra/PycharmProjects/medium-projects/tesla-analysis/.tesla-analysis-venv/lib/python3.8/site-packages (from optuna<3.1,>=2.10.0->skforecast) (1.9.2)\n",
      "Requirement already satisfied: cmaes>=0.8.2 in /home/cherra/PycharmProjects/medium-projects/tesla-analysis/.tesla-analysis-venv/lib/python3.8/site-packages (from optuna<3.1,>=2.10.0->skforecast) (0.9.1)\n",
      "Requirement already satisfied: packaging>=20.0 in /home/cherra/PycharmProjects/medium-projects/tesla-analysis/.tesla-analysis-venv/lib/python3.8/site-packages (from optuna<3.1,>=2.10.0->skforecast) (21.3)\n",
      "Requirement already satisfied: pyaml>=16.9 in /home/cherra/PycharmProjects/medium-projects/tesla-analysis/.tesla-analysis-venv/lib/python3.8/site-packages (from scikit-optimize==0.9.0->skforecast) (21.10.1)\n",
      "Requirement already satisfied: six>=1.5 in /home/cherra/PycharmProjects/medium-projects/tesla-analysis/.tesla-analysis-venv/lib/python3.8/site-packages (from python-dateutil>=2.8.1->pandas<1.6,>=1.2->skforecast) (1.16.0)\n",
      "Requirement already satisfied: PrettyTable>=0.7.2 in /home/cherra/PycharmProjects/medium-projects/tesla-analysis/.tesla-analysis-venv/lib/python3.8/site-packages (from cliff->optuna<3.1,>=2.10.0->skforecast) (3.6.0)\n",
      "Requirement already satisfied: cmd2>=1.0.0 in /home/cherra/PycharmProjects/medium-projects/tesla-analysis/.tesla-analysis-venv/lib/python3.8/site-packages (from cliff->optuna<3.1,>=2.10.0->skforecast) (2.4.3)\n",
      "Requirement already satisfied: autopage>=0.4.0 in /home/cherra/PycharmProjects/medium-projects/tesla-analysis/.tesla-analysis-venv/lib/python3.8/site-packages (from cliff->optuna<3.1,>=2.10.0->skforecast) (0.5.1)\n",
      "Requirement already satisfied: stevedore>=2.0.1 in /home/cherra/PycharmProjects/medium-projects/tesla-analysis/.tesla-analysis-venv/lib/python3.8/site-packages (from cliff->optuna<3.1,>=2.10.0->skforecast) (4.1.1)\n",
      "Requirement already satisfied: zipp>=0.5 in /home/cherra/PycharmProjects/medium-projects/tesla-analysis/.tesla-analysis-venv/lib/python3.8/site-packages (from importlib-metadata<5.0.0->optuna<3.1,>=2.10.0->skforecast) (3.8.1)\n",
      "Requirement already satisfied: typing-extensions>=4.2.0 in /home/cherra/PycharmProjects/medium-projects/tesla-analysis/.tesla-analysis-venv/lib/python3.8/site-packages (from sqlalchemy>=1.3.0->optuna<3.1,>=2.10.0->skforecast) (4.3.0)\n",
      "Requirement already satisfied: greenlet!=0.4.17; platform_machine == \"aarch64\" or (platform_machine == \"ppc64le\" or (platform_machine == \"x86_64\" or (platform_machine == \"amd64\" or (platform_machine == \"AMD64\" or (platform_machine == \"win32\" or platform_machine == \"WIN32\"))))) in /home/cherra/PycharmProjects/medium-projects/tesla-analysis/.tesla-analysis-venv/lib/python3.8/site-packages (from sqlalchemy>=1.3.0->optuna<3.1,>=2.10.0->skforecast) (2.0.2)\n",
      "Requirement already satisfied: Mako in /home/cherra/PycharmProjects/medium-projects/tesla-analysis/.tesla-analysis-venv/lib/python3.8/site-packages (from alembic>=1.5.0->optuna<3.1,>=2.10.0->skforecast) (1.2.4)\n",
      "Requirement already satisfied: importlib-resources; python_version < \"3.9\" in /home/cherra/PycharmProjects/medium-projects/tesla-analysis/.tesla-analysis-venv/lib/python3.8/site-packages (from alembic>=1.5.0->optuna<3.1,>=2.10.0->skforecast) (5.10.2)\n",
      "Requirement already satisfied: pyparsing!=3.0.5,>=2.0.2 in /home/cherra/PycharmProjects/medium-projects/tesla-analysis/.tesla-analysis-venv/lib/python3.8/site-packages (from packaging>=20.0->optuna<3.1,>=2.10.0->skforecast) (3.0.9)\n",
      "Requirement already satisfied: wcwidth in /home/cherra/PycharmProjects/medium-projects/tesla-analysis/.tesla-analysis-venv/lib/python3.8/site-packages (from PrettyTable>=0.7.2->cliff->optuna<3.1,>=2.10.0->skforecast) (0.2.5)\n",
      "Requirement already satisfied: attrs>=16.3.0 in /home/cherra/PycharmProjects/medium-projects/tesla-analysis/.tesla-analysis-venv/lib/python3.8/site-packages (from cmd2>=1.0.0->cliff->optuna<3.1,>=2.10.0->skforecast) (22.2.0)\n",
      "Requirement already satisfied: pyperclip>=1.6 in /home/cherra/PycharmProjects/medium-projects/tesla-analysis/.tesla-analysis-venv/lib/python3.8/site-packages (from cmd2>=1.0.0->cliff->optuna<3.1,>=2.10.0->skforecast) (1.8.2)\n",
      "Requirement already satisfied: pbr!=2.1.0,>=2.0.0 in /home/cherra/PycharmProjects/medium-projects/tesla-analysis/.tesla-analysis-venv/lib/python3.8/site-packages (from stevedore>=2.0.1->cliff->optuna<3.1,>=2.10.0->skforecast) (5.11.1)\n",
      "Requirement already satisfied: MarkupSafe>=0.9.2 in /home/cherra/PycharmProjects/medium-projects/tesla-analysis/.tesla-analysis-venv/lib/python3.8/site-packages (from Mako->alembic>=1.5.0->optuna<3.1,>=2.10.0->skforecast) (2.1.1)\n",
      "Collecting statsmodels\n",
      "  Downloading statsmodels-0.13.5-cp38-cp38-manylinux_2_17_x86_64.manylinux2014_x86_64.whl (9.9 MB)\n",
      "\u001b[K     |████████████████████████████████| 9.9 MB 3.5 MB/s eta 0:00:01\n",
      "\u001b[?25hCollecting patsy>=0.5.2\n",
      "  Downloading patsy-0.5.3-py2.py3-none-any.whl (233 kB)\n",
      "\u001b[K     |████████████████████████████████| 233 kB 75.1 MB/s eta 0:00:01\n",
      "\u001b[?25hRequirement already satisfied: scipy>=1.3; (python_version > \"3.9\" or platform_system != \"Windows\" or platform_machine != \"x86\") and python_version < \"3.12\" in /home/cherra/PycharmProjects/medium-projects/tesla-analysis/.tesla-analysis-venv/lib/python3.8/site-packages (from statsmodels) (1.9.1)\n",
      "Requirement already satisfied: packaging>=21.3 in /home/cherra/PycharmProjects/medium-projects/tesla-analysis/.tesla-analysis-venv/lib/python3.8/site-packages (from statsmodels) (21.3)\n",
      "Requirement already satisfied: pandas>=0.25 in /home/cherra/PycharmProjects/medium-projects/tesla-analysis/.tesla-analysis-venv/lib/python3.8/site-packages (from statsmodels) (1.5.0)\n",
      "Requirement already satisfied: numpy>=1.17; python_version != \"3.10\" or platform_system != \"Windows\" or platform_python_implementation == \"PyPy\" in /home/cherra/PycharmProjects/medium-projects/tesla-analysis/.tesla-analysis-venv/lib/python3.8/site-packages (from statsmodels) (1.23.3)\n",
      "Requirement already satisfied: six in /home/cherra/PycharmProjects/medium-projects/tesla-analysis/.tesla-analysis-venv/lib/python3.8/site-packages (from patsy>=0.5.2->statsmodels) (1.16.0)\n",
      "Requirement already satisfied: pyparsing!=3.0.5,>=2.0.2 in /home/cherra/PycharmProjects/medium-projects/tesla-analysis/.tesla-analysis-venv/lib/python3.8/site-packages (from packaging>=21.3->statsmodels) (3.0.9)\n",
      "Requirement already satisfied: pytz>=2020.1 in /home/cherra/PycharmProjects/medium-projects/tesla-analysis/.tesla-analysis-venv/lib/python3.8/site-packages (from pandas>=0.25->statsmodels) (2022.2.1)\n",
      "Requirement already satisfied: python-dateutil>=2.8.1 in /home/cherra/PycharmProjects/medium-projects/tesla-analysis/.tesla-analysis-venv/lib/python3.8/site-packages (from pandas>=0.25->statsmodels) (2.8.2)\n",
      "Installing collected packages: patsy, statsmodels\n",
      "Successfully installed patsy-0.5.3 statsmodels-0.13.5\n"
     ]
    }
   ],
   "source": [
    "!pip install skforecast\n",
    "!pip install statsmodels"
   ]
  },
  {
   "cell_type": "code",
   "execution_count": 69,
   "metadata": {},
   "outputs": [],
   "source": [
    "import pandas as pd\n",
    "import numpy as np\n",
    "from datetime import datetime\n",
    "from sklearn.cluster import KMeans\n",
    "import matplotlib.pyplot as plt"
   ]
  },
  {
   "cell_type": "code",
   "execution_count": 70,
   "metadata": {},
   "outputs": [
    {
     "name": "stdout",
     "output_type": "stream",
     "text": [
      "id              int64\n",
      "datetime       object\n",
      "consumption     int64\n",
      "dtype: object\n"
     ]
    },
    {
     "data": {
      "text/html": [
       "<div>\n",
       "<style scoped>\n",
       "    .dataframe tbody tr th:only-of-type {\n",
       "        vertical-align: middle;\n",
       "    }\n",
       "\n",
       "    .dataframe tbody tr th {\n",
       "        vertical-align: top;\n",
       "    }\n",
       "\n",
       "    .dataframe thead th {\n",
       "        text-align: right;\n",
       "    }\n",
       "</style>\n",
       "<table border=\"1\" class=\"dataframe\">\n",
       "  <thead>\n",
       "    <tr style=\"text-align: right;\">\n",
       "      <th></th>\n",
       "      <th>id</th>\n",
       "      <th>datetime</th>\n",
       "      <th>consumption</th>\n",
       "    </tr>\n",
       "  </thead>\n",
       "  <tbody>\n",
       "    <tr>\n",
       "      <th>0</th>\n",
       "      <td>0</td>\n",
       "      <td>2019-02-01</td>\n",
       "      <td>243</td>\n",
       "    </tr>\n",
       "    <tr>\n",
       "      <th>1</th>\n",
       "      <td>0</td>\n",
       "      <td>2019-02-02</td>\n",
       "      <td>236</td>\n",
       "    </tr>\n",
       "    <tr>\n",
       "      <th>2</th>\n",
       "      <td>0</td>\n",
       "      <td>2019-02-03</td>\n",
       "      <td>335</td>\n",
       "    </tr>\n",
       "    <tr>\n",
       "      <th>3</th>\n",
       "      <td>0</td>\n",
       "      <td>2019-02-04</td>\n",
       "      <td>252</td>\n",
       "    </tr>\n",
       "    <tr>\n",
       "      <th>4</th>\n",
       "      <td>0</td>\n",
       "      <td>2019-02-05</td>\n",
       "      <td>220</td>\n",
       "    </tr>\n",
       "  </tbody>\n",
       "</table>\n",
       "</div>"
      ],
      "text/plain": [
       "   id    datetime  consumption\n",
       "0   0  2019-02-01          243\n",
       "1   0  2019-02-02          236\n",
       "2   0  2019-02-03          335\n",
       "3   0  2019-02-04          252\n",
       "4   0  2019-02-05          220"
      ]
     },
     "execution_count": 70,
     "metadata": {},
     "output_type": "execute_result"
    }
   ],
   "source": [
    "water_consumptions = pd.read_csv('./data/water_consumptions_100.csv')\n",
    "print(water_consumptions.dtypes)\n",
    "water_consumptions.head()"
   ]
  },
  {
   "cell_type": "code",
   "execution_count": 71,
   "metadata": {},
   "outputs": [
    {
     "data": {
      "text/plain": [
       "id                      int64\n",
       "datetime       datetime64[ns]\n",
       "consumption             int64\n",
       "dtype: object"
      ]
     },
     "execution_count": 71,
     "metadata": {},
     "output_type": "execute_result"
    }
   ],
   "source": [
    "water_consumptions['datetime'] = water_consumptions['datetime'].apply(pd.to_datetime)\n",
    "water_consumptions.dtypes"
   ]
  },
  {
   "attachments": {},
   "cell_type": "markdown",
   "metadata": {},
   "source": [
    "## Data preparation\n",
    "\n"
   ]
  },
  {
   "cell_type": "code",
   "execution_count": 72,
   "metadata": {},
   "outputs": [
    {
     "name": "stdout",
     "output_type": "stream",
     "text": [
      "Number of series: 101\n",
      "Number of complete series:  81\n"
     ]
    }
   ],
   "source": [
    "N_DAYS_YEAR = 365\n",
    "\n",
    "id_length = water_consumptions.groupby(['id']).size()\n",
    "print('Number of series:', len(id_length))\n",
    "complete_series_ids = id_length[id_length == N_DAYS_YEAR]\n",
    "complete_series_ids = complete_series_ids.to_frame().reset_index()\n",
    "print('Number of complete series: ', len(complete_series_ids))"
   ]
  },
  {
   "cell_type": "code",
   "execution_count": 73,
   "metadata": {},
   "outputs": [
    {
     "data": {
      "text/html": [
       "<div>\n",
       "<style scoped>\n",
       "    .dataframe tbody tr th:only-of-type {\n",
       "        vertical-align: middle;\n",
       "    }\n",
       "\n",
       "    .dataframe tbody tr th {\n",
       "        vertical-align: top;\n",
       "    }\n",
       "\n",
       "    .dataframe thead th {\n",
       "        text-align: right;\n",
       "    }\n",
       "</style>\n",
       "<table border=\"1\" class=\"dataframe\">\n",
       "  <thead>\n",
       "    <tr style=\"text-align: right;\">\n",
       "      <th></th>\n",
       "      <th>id</th>\n",
       "      <th>datetime</th>\n",
       "      <th>consumption</th>\n",
       "    </tr>\n",
       "  </thead>\n",
       "  <tbody>\n",
       "    <tr>\n",
       "      <th>0</th>\n",
       "      <td>0</td>\n",
       "      <td>2019-02-01</td>\n",
       "      <td>243</td>\n",
       "    </tr>\n",
       "    <tr>\n",
       "      <th>1</th>\n",
       "      <td>0</td>\n",
       "      <td>2019-02-02</td>\n",
       "      <td>236</td>\n",
       "    </tr>\n",
       "    <tr>\n",
       "      <th>2</th>\n",
       "      <td>0</td>\n",
       "      <td>2019-02-03</td>\n",
       "      <td>335</td>\n",
       "    </tr>\n",
       "    <tr>\n",
       "      <th>3</th>\n",
       "      <td>0</td>\n",
       "      <td>2019-02-04</td>\n",
       "      <td>252</td>\n",
       "    </tr>\n",
       "    <tr>\n",
       "      <th>4</th>\n",
       "      <td>0</td>\n",
       "      <td>2019-02-05</td>\n",
       "      <td>220</td>\n",
       "    </tr>\n",
       "    <tr>\n",
       "      <th>...</th>\n",
       "      <td>...</td>\n",
       "      <td>...</td>\n",
       "      <td>...</td>\n",
       "    </tr>\n",
       "    <tr>\n",
       "      <th>35589</th>\n",
       "      <td>100</td>\n",
       "      <td>2020-01-27</td>\n",
       "      <td>471</td>\n",
       "    </tr>\n",
       "    <tr>\n",
       "      <th>35590</th>\n",
       "      <td>100</td>\n",
       "      <td>2020-01-28</td>\n",
       "      <td>445</td>\n",
       "    </tr>\n",
       "    <tr>\n",
       "      <th>35591</th>\n",
       "      <td>100</td>\n",
       "      <td>2020-01-29</td>\n",
       "      <td>720</td>\n",
       "    </tr>\n",
       "    <tr>\n",
       "      <th>35592</th>\n",
       "      <td>100</td>\n",
       "      <td>2020-01-30</td>\n",
       "      <td>402</td>\n",
       "    </tr>\n",
       "    <tr>\n",
       "      <th>35593</th>\n",
       "      <td>100</td>\n",
       "      <td>2020-01-31</td>\n",
       "      <td>414</td>\n",
       "    </tr>\n",
       "  </tbody>\n",
       "</table>\n",
       "<p>29565 rows × 3 columns</p>\n",
       "</div>"
      ],
      "text/plain": [
       "        id   datetime  consumption\n",
       "0        0 2019-02-01          243\n",
       "1        0 2019-02-02          236\n",
       "2        0 2019-02-03          335\n",
       "3        0 2019-02-04          252\n",
       "4        0 2019-02-05          220\n",
       "...    ...        ...          ...\n",
       "35589  100 2020-01-27          471\n",
       "35590  100 2020-01-28          445\n",
       "35591  100 2020-01-29          720\n",
       "35592  100 2020-01-30          402\n",
       "35593  100 2020-01-31          414\n",
       "\n",
       "[29565 rows x 3 columns]"
      ]
     },
     "execution_count": 73,
     "metadata": {},
     "output_type": "execute_result"
    }
   ],
   "source": [
    "complete_series_df = water_consumptions[water_consumptions['id'].isin(complete_series_ids['id'])]\n",
    "complete_series_df"
   ]
  },
  {
   "cell_type": "code",
   "execution_count": 74,
   "metadata": {},
   "outputs": [],
   "source": [
    "consumption_series = dict()\n",
    "\n",
    "for id in set(complete_series_df['id']):\n",
    "  id_df = complete_series_df[complete_series_df['id'] == id]\n",
    "  date_consumption_df = id_df.loc[:,[\"datetime\",\"consumption\"]]\n",
    "  date_consumption_df.set_index(\"datetime\",inplace=True)\n",
    "  date_consumption_df.sort_index(inplace=True)\n",
    "  consumption_series[id] = date_consumption_df"
   ]
  },
  {
   "attachments": {},
   "cell_type": "markdown",
   "metadata": {},
   "source": [
    "\n",
    "### Standarization\n",
    "Once we have the train-test datasets, it's the time to prepare them to improve the performance of the models. In order to do that, we standarize the time series to make the easier to use for the algorithms.\n",
    "In most cases, it is very important to take care that there is no information leakage between testing and training data. But, in this case, as we want to replicate the clutering from the EDA. We will do, first a complete-dataset-normalization and for train-test we will fit on the training data and then apply the same to the test data"
   ]
  },
  {
   "cell_type": "code",
   "execution_count": 75,
   "metadata": {},
   "outputs": [
    {
     "data": {
      "text/plain": [
       "array([-3.72417048e-01, -4.37922043e-01,  4.88505743e-01, -2.88196340e-01,\n",
       "       -5.87647745e-01, -6.36077857e-02, -5.42499293e-02, -8.40309869e-01,\n",
       "       -1.94617776e-01,  3.01348615e-01, -5.50216320e-01,  5.07221456e-01,\n",
       "       -5.97005602e-01, -1.75902063e-01,  9.47040708e-01, -3.55342164e-02,\n",
       "        5.63368595e-01,  3.48137897e-01,  1.19034498e+00, -2.22691345e-01,\n",
       "        2.82632902e-01,  9.18967139e-01, -5.68932033e-01,  6.75662872e-01,\n",
       "        9.37682852e-01, -3.25627766e-01,  2.91990758e-01, -9.61962002e-01,\n",
       "       -6.99942023e-01, -4.94069181e-01,  6.66305015e-01,  3.57495753e-01,\n",
       "        3.38780040e-01,  1.89054338e-01, -3.72417048e-01, -1.38306554e+00,\n",
       "       -1.57186350e-01,  1.31199711e+00,  2.45365559e+00, -5.87647745e-01,\n",
       "       -6.90584166e-01,  1.80796350e+00,  3.85569323e-01,  2.99707785e-02,\n",
       "       -5.40858463e-01, -6.43794884e-01,  1.15291355e+00,  1.12550657e-02,\n",
       "        9.09609282e-01, -8.77741295e-01,  9.54757735e-02,  9.47040708e-01,\n",
       "       -5.12784894e-01, -1.06489842e+00,  3.93286349e-02,  3.76211466e-01,\n",
       "        1.64887994e+00,  1.23549343e-01,  1.08740855e+00,  9.09609282e-01,\n",
       "        2.26485763e-01,  1.07805070e+00,  2.18227776e+00, -4.84711325e-01,\n",
       "        1.45236495e+00,  9.75114277e-01,  2.45201476e-01,  4.32358605e-01,\n",
       "        4.69790030e-01,  3.85569323e-01,  7.41167867e-01, -4.56637755e-01,\n",
       "       -6.62510597e-01,  3.66853610e-01, -7.46064718e-03, -1.73866409e+00,\n",
       "       -4.56637755e-01, -2.64637616e+00, -2.64637616e+00, -2.64637616e+00,\n",
       "       -2.64637616e+00, -2.64637616e+00, -2.64637616e+00,  1.13419784e+00,\n",
       "        7.59883580e-01, -2.69480627e-01, -7.65447017e-01,  2.99707785e-02,\n",
       "       -1.19754924e-01, -1.30820269e+00, -6.36077857e-02, -5.03427038e-01,\n",
       "        1.79696481e-01,  6.38231446e-01,  3.57495753e-01, -1.38470637e-01,\n",
       "       -9.90035572e-01,  1.51622912e-01,  5.16579313e-01,  4.86864914e-02,\n",
       "        1.68631137e+00, -5.42499293e-02,  4.60432174e-01,  3.48137897e-01,\n",
       "        1.19034498e+00,  4.69790030e-01, -5.50216320e-01,  5.72726451e-01,\n",
       "        9.28324995e-01,  7.87957149e-01,  8.34746431e-01, -1.42985482e+00,\n",
       "       -1.39242340e+00, -1.45792839e+00,  4.97863600e-01,  1.18098712e+00,\n",
       "       -6.99942023e-01,  3.38780040e-01, -1.30820269e+00, -1.38470637e-01,\n",
       "       -3.72417048e-01,  1.60980768e-01,  4.51074318e-01, -2.13333488e-01,\n",
       "        2.20099347e+00, -1.57186350e-01, -1.26141341e+00, -6.06363458e-01,\n",
       "        2.49108702e+00, -1.38470637e-01, -3.91132761e-01,  1.12483998e+00,\n",
       "       -3.55342164e-02, -2.60122771e-01, -1.20526627e+00,  1.70338625e-01,\n",
       "       -6.81226310e-01, -1.47664411e+00, -1.67315909e+00,  9.37682852e-01,\n",
       "       -7.93520587e-01, -5.03427038e-01,  2.27585632e+00, -1.18655056e+00,\n",
       "        1.75181636e+00,  1.70502708e+00,  9.65756421e-01,  7.67600606e-02,\n",
       "        1.56465923e+00,  9.84472134e-01,  5.44652882e-01, -6.36077857e-02,\n",
       "       -9.24530577e-01, -1.05554057e+00,  6.66305015e-01,  1.65823780e+00,\n",
       "        6.38231446e-01, -5.78289889e-01,  2.39750845e+00, -1.24269770e+00,\n",
       "       -9.80677715e-01,  9.84472134e-01, -3.53701335e-01,  2.47237131e+00,\n",
       "       -5.03427038e-01,  2.46301345e+00,  1.14191486e-01, -2.97554196e-01,\n",
       "       -8.30952012e-01,  9.37682852e-01,  6.19515733e-01, -6.62510597e-01,\n",
       "       -1.01039211e-01,  1.18098712e+00, -3.06912053e-01,  3.01348615e-01,\n",
       "        2.82632902e-01,  7.50525723e-01, -3.16269909e-01, -1.01810914e+00,\n",
       "        1.01254570e+00, -1.01039211e-01,  8.61179171e-02,  4.41716461e-01,\n",
       "       -5.68932033e-01, -5.03427038e-01, -1.75902063e-01,  1.03126142e+00,\n",
       "        1.42265056e-01,  1.34007068e+00, -1.15847699e+00,  5.44652882e-01,\n",
       "        1.26520783e+00, -1.57186350e-01, -6.15721315e-01,  2.21035133e+00,\n",
       "        7.87957149e-01, -2.03975632e-01, -7.46731305e-01, -2.64637616e+00,\n",
       "       -2.64637616e+00, -2.64637616e+00, -2.64637616e+00, -2.64637616e+00,\n",
       "       -2.64637616e+00, -2.64637616e+00, -2.64637616e+00, -2.64637616e+00,\n",
       "       -2.64637616e+00, -4.65995612e-01,  1.98412194e-01, -1.86031622e+00,\n",
       "       -2.78838483e-01,  3.06191626e+00,  9.00251426e-01,  9.93829990e-01,\n",
       "       -9.16813550e-02,  3.93286349e-02,  1.07805070e+00,  7.59883580e-01,\n",
       "       -1.66544206e-01, -7.56089161e-01, -2.50764914e-01,  3.93286349e-02,\n",
       "       -3.72417048e-01, -8.23234986e-02,  1.45236495e+00,  4.04285035e-01,\n",
       "       -4.19206330e-01, -1.28948698e+00,  6.19515733e-01,  1.02190356e+00,\n",
       "       -9.61962002e-01,  9.56398564e-01,  6.00800020e-01, -6.62510597e-01,\n",
       "        2.07770051e-01,  1.89054338e-01, -8.68383438e-01, -5.22142750e-01,\n",
       "        5.25937169e-01, -2.32049201e-01,  4.88505743e-01,  2.35843620e-01,\n",
       "       -1.29112781e-01,  3.10706471e-01, -1.68185036e-02,  2.07770051e-01,\n",
       "        2.26649846e+00,  6.19515733e-01,  7.22452154e-01, -3.91132761e-01,\n",
       "       -2.88196340e-01,  5.44652882e-01,  5.91442164e-01,  5.80443478e-02,\n",
       "       -7.74804874e-01, -2.88196340e-01, -5.03427038e-01, -5.31500607e-01,\n",
       "        1.04997713e+00, -8.49667725e-01, -1.01810914e+00,  1.04833630e-01,\n",
       "       -4.00490617e-01,  3.38780040e-01, -3.44343478e-01,  6.28873590e-01,\n",
       "       -7.46731305e-01, -2.41407058e-01, -5.22142750e-01, -2.13333488e-01,\n",
       "       -4.00490617e-01,  2.05126777e+00,  4.51074318e-01,  2.26485763e-01,\n",
       "       -1.01039211e-01,  5.80443478e-02, -6.62510597e-01, -2.22691345e-01,\n",
       "        3.57495753e-01, -1.00875128e+00,  8.44104287e-01,  3.01348615e-01,\n",
       "       -1.75902063e-01, -3.91132761e-01, -2.13333488e-01, -8.23234986e-02,\n",
       "        1.37750210e+00, -1.29112781e-01, -9.99393428e-01, -8.68383438e-01,\n",
       "       -6.71868453e-01,  2.82632902e-01,  4.04285035e-01, -2.22691345e-01,\n",
       "        3.10706471e-01, -2.61763600e-02,  1.29328140e+00, -9.05814864e-01,\n",
       "        9.54757735e-02,  5.25937169e-01, -3.55342164e-02,  3.20064328e-01,\n",
       "       -4.09848473e-01,  1.89720925e-03, -4.37922043e-01,  5.07221456e-01,\n",
       "        6.19515733e-01,  3.01348615e-01, -7.74804874e-01, -4.09848473e-01,\n",
       "       -7.29656421e-02, -6.34437028e-01, -1.43921268e+00,  1.02190356e+00,\n",
       "       -9.43246290e-01,  4.86864914e-02,  3.48137897e-01, -2.32049201e-01,\n",
       "       -6.99942023e-01, -1.22398198e+00,  1.14191486e-01, -4.75353468e-01,\n",
       "       -9.43246290e-01,  6.66305015e-01,  1.09676641e+00, -8.23234986e-02,\n",
       "       -2.32049201e-01,  6.47589302e-01,  6.00800020e-01,  2.54559333e-01,\n",
       "        5.16579313e-01,  4.13642892e-01, -1.47828494e-01, -2.88196340e-01,\n",
       "       -6.99942023e-01,  1.34942853e+00, -7.56089161e-01,  9.65756421e-01,\n",
       "        5.54010738e-01,  7.87957149e-01, -4.19206330e-01, -5.40858463e-01,\n",
       "       -1.17719270e+00, -7.46064718e-03, -1.57022267e+00,  1.58337494e+00,\n",
       "       -6.81226310e-01,  1.89054338e-01, -4.48920729e-02,  1.29328140e+00,\n",
       "       -1.10397068e-01,  2.17127907e-01,  8.61179171e-02,  1.65823780e+00,\n",
       "        4.51074318e-01,  7.97315005e-01,  1.00318785e+00,  1.98412194e-01,\n",
       "       -6.53152740e-01, -4.75353468e-01,  1.12483998e+00,  1.33071282e+00,\n",
       "       -2.60122771e-01])"
      ]
     },
     "execution_count": 75,
     "metadata": {},
     "output_type": "execute_result"
    }
   ],
   "source": [
    "from sklearn.preprocessing import StandardScaler\n",
    "\n",
    "for index in consumption_series:\n",
    "    scaler = StandardScaler()\n",
    "    consumption_series[index] = scaler.fit_transform(consumption_series[index])\n",
    "    consumption_series[index] = consumption_series[index].reshape(len(consumption_series[index]))\n",
    "    \n",
    "water_series_anonimized = list(consumption_series.values())\n",
    "water_series_anonimized[0]"
   ]
  },
  {
   "attachments": {},
   "cell_type": "markdown",
   "metadata": {},
   "source": [
    "## Clustering\n",
    "Once we have the train-test datasets, we have to think about the problem. As we saw in the EDA's stage, the different time series have different behaviours so we decided to cluster them to apply different algorithms or parameters to each cluster.\n",
    "One thing we have to keep in mind, is that we create the clusters using the train time serie to don't transfer knowledge to the test stage, but in the final predictions for the problem we will use the complete serie.\n",
    "\n",
    "\n",
    "```Think it```"
   ]
  },
  {
   "cell_type": "code",
   "execution_count": 76,
   "metadata": {},
   "outputs": [
    {
     "data": {
      "image/png": "[encoded data removed]",
      "text/plain": [
       "<Figure size 640x480 with 1 Axes>"
      ]
     },
     "metadata": {},
     "output_type": "display_data"
    }
   ],
   "source": [
    "OPTIMAL_NUMBER_CLUSTERS = 10\n",
    "SEED = 10\n",
    "\n",
    "k_means = KMeans(n_clusters=OPTIMAL_NUMBER_CLUSTERS, random_state=SEED)\n",
    "k_means.fit(water_series_anonimized)\n",
    "cluster_labels = k_means.labels_\n",
    "\n",
    "y, x, _ = plt.hist(cluster_labels)"
   ]
  },
  {
   "cell_type": "code",
   "execution_count": 77,
   "metadata": {},
   "outputs": [
    {
     "data": {
      "text/plain": [
       "{0: 6,\n",
       " 1: 6,\n",
       " 2: 3,\n",
       " 3: 7,\n",
       " 4: 3,\n",
       " 5: 9,\n",
       " 6: 1,\n",
       " 7: 6,\n",
       " 8: 1,\n",
       " 9: 9,\n",
       " 10: 1,\n",
       " 12: 5,\n",
       " 13: 0,\n",
       " 14: 5,\n",
       " 15: 1,\n",
       " 16: 0,\n",
       " 17: 9,\n",
       " 18: 3,\n",
       " 19: 5,\n",
       " 20: 0,\n",
       " 21: 8,\n",
       " 22: 7,\n",
       " 24: 3,\n",
       " 25: 6,\n",
       " 27: 3,\n",
       " 28: 7,\n",
       " 29: 5,\n",
       " 30: 3,\n",
       " 31: 3,\n",
       " 36: 5,\n",
       " 38: 0,\n",
       " 40: 0,\n",
       " 41: 4,\n",
       " 42: 5,\n",
       " 43: 0,\n",
       " 44: 6,\n",
       " 45: 6,\n",
       " 46: 6,\n",
       " 47: 9,\n",
       " 48: 3,\n",
       " 49: 4,\n",
       " 50: 7,\n",
       " 51: 1,\n",
       " 52: 5,\n",
       " 53: 5,\n",
       " 55: 9,\n",
       " 56: 1,\n",
       " 57: 9,\n",
       " 58: 2,\n",
       " 59: 0,\n",
       " 60: 1,\n",
       " 61: 6,\n",
       " 63: 7,\n",
       " 65: 5,\n",
       " 66: 0,\n",
       " 68: 6,\n",
       " 69: 6,\n",
       " 70: 1,\n",
       " 71: 7,\n",
       " 75: 4,\n",
       " 77: 6,\n",
       " 80: 3,\n",
       " 81: 3,\n",
       " 82: 0,\n",
       " 83: 7,\n",
       " 84: 1,\n",
       " 86: 5,\n",
       " 87: 8,\n",
       " 88: 0,\n",
       " 89: 0,\n",
       " 90: 6,\n",
       " 91: 6,\n",
       " 92: 9,\n",
       " 93: 9,\n",
       " 94: 5,\n",
       " 95: 0,\n",
       " 96: 3,\n",
       " 97: 5,\n",
       " 98: 0,\n",
       " 99: 0,\n",
       " 100: 7}"
      ]
     },
     "execution_count": 77,
     "metadata": {},
     "output_type": "execute_result"
    }
   ],
   "source": [
    "id_cluster = dict()\n",
    "for index in consumption_series:\n",
    "    predicted = k_means.predict([consumption_series[index]])\n",
    "    id_cluster[index] = predicted[0]\n",
    "id_cluster"
   ]
  },
  {
   "cell_type": "code",
   "execution_count": 83,
   "metadata": {},
   "outputs": [],
   "source": [
    "UNCOMPLETE_SERIE_CLUSTER = 10\n",
    "\n",
    "def assign_cluster_or_default(id, id_clusters):\n",
    "  if id in id_clusters.keys():\n",
    "    return id_clusters[id]\n",
    "  else:\n",
    "    return UNCOMPLETE_SERIE_CLUSTER"
   ]
  },
  {
   "cell_type": "code",
   "execution_count": 84,
   "metadata": {},
   "outputs": [
    {
     "data": {
      "text/html": [
       "<div>\n",
       "<style scoped>\n",
       "    .dataframe tbody tr th:only-of-type {\n",
       "        vertical-align: middle;\n",
       "    }\n",
       "\n",
       "    .dataframe tbody tr th {\n",
       "        vertical-align: top;\n",
       "    }\n",
       "\n",
       "    .dataframe thead th {\n",
       "        text-align: right;\n",
       "    }\n",
       "</style>\n",
       "<table border=\"1\" class=\"dataframe\">\n",
       "  <thead>\n",
       "    <tr style=\"text-align: right;\">\n",
       "      <th></th>\n",
       "      <th>id</th>\n",
       "      <th>datetime</th>\n",
       "      <th>consumption</th>\n",
       "      <th>cluster</th>\n",
       "    </tr>\n",
       "  </thead>\n",
       "  <tbody>\n",
       "    <tr>\n",
       "      <th>0</th>\n",
       "      <td>0</td>\n",
       "      <td>2019-02-01</td>\n",
       "      <td>243</td>\n",
       "      <td>6</td>\n",
       "    </tr>\n",
       "    <tr>\n",
       "      <th>1</th>\n",
       "      <td>0</td>\n",
       "      <td>2019-02-02</td>\n",
       "      <td>236</td>\n",
       "      <td>6</td>\n",
       "    </tr>\n",
       "    <tr>\n",
       "      <th>2</th>\n",
       "      <td>0</td>\n",
       "      <td>2019-02-03</td>\n",
       "      <td>335</td>\n",
       "      <td>6</td>\n",
       "    </tr>\n",
       "    <tr>\n",
       "      <th>3</th>\n",
       "      <td>0</td>\n",
       "      <td>2019-02-04</td>\n",
       "      <td>252</td>\n",
       "      <td>6</td>\n",
       "    </tr>\n",
       "    <tr>\n",
       "      <th>4</th>\n",
       "      <td>0</td>\n",
       "      <td>2019-02-05</td>\n",
       "      <td>220</td>\n",
       "      <td>6</td>\n",
       "    </tr>\n",
       "    <tr>\n",
       "      <th>...</th>\n",
       "      <td>...</td>\n",
       "      <td>...</td>\n",
       "      <td>...</td>\n",
       "      <td>...</td>\n",
       "    </tr>\n",
       "    <tr>\n",
       "      <th>35589</th>\n",
       "      <td>100</td>\n",
       "      <td>2020-01-27</td>\n",
       "      <td>471</td>\n",
       "      <td>7</td>\n",
       "    </tr>\n",
       "    <tr>\n",
       "      <th>35590</th>\n",
       "      <td>100</td>\n",
       "      <td>2020-01-28</td>\n",
       "      <td>445</td>\n",
       "      <td>7</td>\n",
       "    </tr>\n",
       "    <tr>\n",
       "      <th>35591</th>\n",
       "      <td>100</td>\n",
       "      <td>2020-01-29</td>\n",
       "      <td>720</td>\n",
       "      <td>7</td>\n",
       "    </tr>\n",
       "    <tr>\n",
       "      <th>35592</th>\n",
       "      <td>100</td>\n",
       "      <td>2020-01-30</td>\n",
       "      <td>402</td>\n",
       "      <td>7</td>\n",
       "    </tr>\n",
       "    <tr>\n",
       "      <th>35593</th>\n",
       "      <td>100</td>\n",
       "      <td>2020-01-31</td>\n",
       "      <td>414</td>\n",
       "      <td>7</td>\n",
       "    </tr>\n",
       "  </tbody>\n",
       "</table>\n",
       "<p>35594 rows × 4 columns</p>\n",
       "</div>"
      ],
      "text/plain": [
       "        id   datetime  consumption  cluster\n",
       "0        0 2019-02-01          243        6\n",
       "1        0 2019-02-02          236        6\n",
       "2        0 2019-02-03          335        6\n",
       "3        0 2019-02-04          252        6\n",
       "4        0 2019-02-05          220        6\n",
       "...    ...        ...          ...      ...\n",
       "35589  100 2020-01-27          471        7\n",
       "35590  100 2020-01-28          445        7\n",
       "35591  100 2020-01-29          720        7\n",
       "35592  100 2020-01-30          402        7\n",
       "35593  100 2020-01-31          414        7\n",
       "\n",
       "[35594 rows x 4 columns]"
      ]
     },
     "execution_count": 84,
     "metadata": {},
     "output_type": "execute_result"
    }
   ],
   "source": [
    "water_consumptions['cluster'] = water_consumptions.apply(lambda row: assign_cluster_or_default(row.id, id_cluster), axis = 1)\n",
    "water_consumptions"
   ]
  },
  {
   "attachments": {},
   "cell_type": "markdown",
   "metadata": {},
   "source": [
    "## Training-test datasets\n",
    "The dataset is a time series. A specific characteristic of a time serie is that in a train-test problem we have to use the first part for training and the second for testing. We can't shuffle the serie to get it balanced or make changes in the order. \n",
    "In this problem we picked the first eleven months (2019-02-01 / 2019-12-31), which are the 91% of the dataset, and left the other 9% (2020-01-01 / 2020-01-31) for testing purposes."
   ]
  },
  {
   "cell_type": "code",
   "execution_count": 79,
   "metadata": {},
   "outputs": [
    {
     "name": "stdout",
     "output_type": "stream",
     "text": [
      "Datatime range: 2019-02-01 00:00:00 2020-01-31 00:00:00\n"
     ]
    }
   ],
   "source": [
    "print('Datatime range:', min(water_consumptions['datetime']) ,max(water_consumptions['datetime']))"
   ]
  },
  {
   "cell_type": "code",
   "execution_count": 85,
   "metadata": {},
   "outputs": [],
   "source": [
    "def train_test_split(water_consumptions):\n",
    "    train =  water_consumptions.loc[water_consumptions['datetime'] < datetime(2020, 1, 1)]\n",
    "    test = water_consumptions.loc[water_consumptions['datetime'] >= datetime(2020, 1, 1)]\n",
    "    return train, test"
   ]
  },
  {
   "cell_type": "code",
   "execution_count": 86,
   "metadata": {},
   "outputs": [
    {
     "name": "stdout",
     "output_type": "stream",
     "text": [
      "Train shape: (32492, 4)\n",
      "Test shape: (3102, 4)\n"
     ]
    }
   ],
   "source": [
    "train_df, test_df = train_test_split(water_consumptions)\n",
    "print('Train shape:', train_df.shape)\n",
    "print('Test shape:', test_df.shape)"
   ]
  },
  {
   "attachments": {},
   "cell_type": "markdown",
   "metadata": {},
   "source": [
    "## Train-Predict by cluster"
   ]
  },
  {
   "cell_type": "code",
   "execution_count": 89,
   "metadata": {},
   "outputs": [
    {
     "ename": "ModuleNotFoundError",
     "evalue": "No module named 'statsmodels'",
     "output_type": "error",
     "traceback": [
      "\u001b[0;31m---------------------------------------------------------------------------\u001b[0m",
      "\u001b[0;31mModuleNotFoundError\u001b[0m                       Traceback (most recent call last)",
      "Cell \u001b[0;32mIn [89], line 3\u001b[0m\n\u001b[1;32m      1\u001b[0m \u001b[39mfrom\u001b[39;00m \u001b[39mskforecast\u001b[39;00m\u001b[39m.\u001b[39;00m\u001b[39mForecasterAutoreg\u001b[39;00m \u001b[39mimport\u001b[39;00m ForecasterAutoreg\n\u001b[1;32m      2\u001b[0m \u001b[39mfrom\u001b[39;00m \u001b[39msklearn\u001b[39;00m\u001b[39m.\u001b[39;00m\u001b[39mensemble\u001b[39;00m \u001b[39mimport\u001b[39;00m RandomForestRegressor, GradientBoostingRegressor\n\u001b[0;32m----> 3\u001b[0m \u001b[39mimport\u001b[39;00m \u001b[39mstatsmodels\u001b[39;00m\u001b[39m.\u001b[39;00m\u001b[39mapi\u001b[39;00m \u001b[39mas\u001b[39;00m \u001b[39msm\u001b[39;00m\n\u001b[1;32m      5\u001b[0m \u001b[39mdef\u001b[39;00m \u001b[39mmax_if_negative\u001b[39m(x, y):\n\u001b[1;32m      6\u001b[0m   \u001b[39mif\u001b[39;00m x \u001b[39m<\u001b[39m \u001b[39m0\u001b[39m:\n",
      "\u001b[0;31mModuleNotFoundError\u001b[0m: No module named 'statsmodels'"
     ]
    }
   ],
   "source": [
    "def generate_append_from_predictions(predicted):\n",
    "  week_1 = sum(predicted[:7])\n",
    "  week_2 = sum(predicted[7:])\n",
    "  days_week_consumptions = np.append(np.append(predicted[:7], week_1), week_2)\n",
    "  return np.concatenate(([id],days_week_consumptions))\n",
    "  \n",
    "\n",
    "def train_predict_by_id(train_dataset, model_per_cluster, params_per_cluster, scaler_per_cluster, default_model, default_params, default_scaler, predict_steps=14):\n",
    "  column_names = ['id', 'day_1', 'day_2', 'day_3', 'day_4', 'day_5', 'day_6', 'day_7', 'week_1', 'week_2']\n",
    "  df = pd.DataFrame(columns = column_names)\n",
    "  ids = set(train_dataset['id'])\n",
    "  for ts_id in ids:\n",
    "    try:\n",
    "      print('id: {id} de {len}, completado: {percent:.2f}%'.format(id=ts_id, len=len(ids), percent=(len(df)/len(ids))*100))\n",
    "      current_id_time_serie = train_dataset[train_dataset['id'] == ts_id]\n",
    "      cluster = list(current_id_time_serie['cluster'])[0]\n",
    "      if cluster < UNCOMPLETE_SERIE_CLUSTER:\n",
    "        params = params_per_cluster[cluster]\n",
    "        scaler = scaler_per_cluster[cluster]()\n",
    "        model = model_per_cluster[cluster](**params, scaler=scaler)\n",
    "      else:\n",
    "        scaler = default_scaler()\n",
    "        model = default_model(**default_params, scaler=scaler)\n",
    "\n",
    "      model.fit(current_id_time_serie)\n",
    "      predicted = model.predict(predict_steps)\n",
    "      to_append = generate_append_from_predictions(predicted)\n",
    "    except:\n",
    "      to_append = [ts_id, 0, 0, 0, 0, 0, 0, 0, 0, 0]\n",
    "    df.loc[len(df)] = to_append\n",
    "  return df"
   ]
  }
 ],
 "metadata": {
  "kernelspec": {
   "display_name": "Python 3",
   "language": "python",
   "name": "python3"
  },
  "language_info": {
   "codemirror_mode": {
    "name": "ipython",
    "version": 3
   },
   "file_extension": ".py",
   "mimetype": "text/x-python",
   "name": "python",
   "nbconvert_exporter": "python",
   "pygments_lexer": "ipython3",
   "version": "3.8.10"
  },
  "orig_nbformat": 4,
  "vscode": {
   "interpreter": {
    "hash": "97904ca879a968c6e8bbdfccb264e127b174282fa9d008faaeaf032ab0be8c9f"
   }
  }
 },
 "nbformat": 4,
 "nbformat_minor": 2
}
